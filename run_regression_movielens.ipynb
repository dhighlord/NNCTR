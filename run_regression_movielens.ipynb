{
  "nbformat": 4,
  "nbformat_minor": 0,
  "metadata": {
    "colab": {
      "name": "run_regression_movielens.ipynb",
      "version": "0.3.2",
      "provenance": [],
      "collapsed_sections": [],
      "include_colab_link": true
    },
    "kernelspec": {
      "name": "python3",
      "display_name": "Python 3"
    }
  },
  "cells": [
    {
      "cell_type": "markdown",
      "metadata": {
        "id": "view-in-github",
        "colab_type": "text"
      },
      "source": [
        "<a href=\"https://colab.research.google.com/github/dhighlord/NNCTR/blob/master/run_regression_movielens.ipynb\" target=\"_parent\"><img src=\"https://colab.research.google.com/assets/colab-badge.svg\" alt=\"Open In Colab\"/></a>"
      ]
    },
    {
      "cell_type": "code",
      "metadata": {
        "id": "JvO1FzYveq_w",
        "colab_type": "code",
        "colab": {
          "base_uri": "https://localhost:8080/",
          "height": 127
        },
        "outputId": "7539b998-f922-4ae6-f616-2fc63f5a84bb"
      },
      "source": [
        "!git clone https://github.com/dhighlord/NNCTR.git"
      ],
      "execution_count": 1,
      "outputs": [
        {
          "output_type": "stream",
          "text": [
            "Cloning into 'NNCTR'...\n",
            "remote: Enumerating objects: 69, done.\u001b[K\n",
            "remote: Counting objects:   1% (1/69)\u001b[K\rremote: Counting objects:   2% (2/69)\u001b[K\rremote: Counting objects:   4% (3/69)\u001b[K\rremote: Counting objects:   5% (4/69)\u001b[K\rremote: Counting objects:   7% (5/69)\u001b[K\rremote: Counting objects:   8% (6/69)\u001b[K\rremote: Counting objects:  10% (7/69)\u001b[K\rremote: Counting objects:  11% (8/69)\u001b[K\rremote: Counting objects:  13% (9/69)\u001b[K\rremote: Counting objects:  14% (10/69)\u001b[K\rremote: Counting objects:  15% (11/69)\u001b[K\rremote: Counting objects:  17% (12/69)\u001b[K\rremote: Counting objects:  18% (13/69)\u001b[K\rremote: Counting objects:  20% (14/69)\u001b[K\rremote: Counting objects:  21% (15/69)\u001b[K\rremote: Counting objects:  23% (16/69)\u001b[K\rremote: Counting objects:  24% (17/69)\u001b[K\rremote: Counting objects:  26% (18/69)\u001b[K\rremote: Counting objects:  27% (19/69)\u001b[K\rremote: Counting objects:  28% (20/69)\u001b[K\rremote: Counting objects:  30% (21/69)\u001b[K\rremote: Counting objects:  31% (22/69)\u001b[K\rremote: Counting objects:  33% (23/69)\u001b[K\rremote: Counting objects:  34% (24/69)\u001b[K\rremote: Counting objects:  36% (25/69)\u001b[K\rremote: Counting objects:  37% (26/69)\u001b[K\rremote: Counting objects:  39% (27/69)\u001b[K\rremote: Counting objects:  40% (28/69)\u001b[K\rremote: Counting objects:  42% (29/69)\u001b[K\rremote: Counting objects:  43% (30/69)\u001b[K\rremote: Counting objects:  44% (31/69)\u001b[K\rremote: Counting objects:  46% (32/69)\u001b[K\rremote: Counting objects:  47% (33/69)\u001b[K\rremote: Counting objects:  49% (34/69)\u001b[K\rremote: Counting objects:  50% (35/69)\u001b[K\rremote: Counting objects:  52% (36/69)\u001b[K\rremote: Counting objects:  53% (37/69)\u001b[K\rremote: Counting objects:  55% (38/69)\u001b[K\rremote: Counting objects:  56% (39/69)\u001b[K\rremote: Counting objects:  57% (40/69)\u001b[K\rremote: Counting objects:  59% (41/69)\u001b[K\rremote: Counting objects:  60% (42/69)\u001b[K\rremote: Counting objects:  62% (43/69)\u001b[K\rremote: Counting objects:  63% (44/69)\u001b[K\rremote: Counting objects:  65% (45/69)\u001b[K\rremote: Counting objects:  66% (46/69)\u001b[K\rremote: Counting objects:  68% (47/69)\u001b[K\rremote: Counting objects:  69% (48/69)\u001b[K\rremote: Counting objects:  71% (49/69)\u001b[K\rremote: Counting objects:  72% (50/69)\u001b[K\rremote: Counting objects:  73% (51/69)\u001b[K\rremote: Counting objects:  75% (52/69)\u001b[K\rremote: Counting objects:  76% (53/69)\u001b[K\rremote: Counting objects:  78% (54/69)\u001b[K\rremote: Counting objects:  79% (55/69)\u001b[K\rremote: Counting objects:  81% (56/69)\u001b[K\rremote: Counting objects:  82% (57/69)\u001b[K\rremote: Counting objects:  84% (58/69)\u001b[K\rremote: Counting objects:  85% (59/69)\u001b[K\rremote: Counting objects:  86% (60/69)\u001b[K\rremote: Counting objects:  88% (61/69)\u001b[K\rremote: Counting objects:  89% (62/69)\u001b[K\rremote: Counting objects:  91% (63/69)\u001b[K\rremote: Counting objects:  92% (64/69)\u001b[K\rremote: Counting objects:  94% (65/69)\u001b[K\rremote: Counting objects:  95% (66/69)\u001b[K\rremote: Counting objects:  97% (67/69)\u001b[K\rremote: Counting objects:  98% (68/69)\u001b[K\rremote: Counting objects: 100% (69/69)\u001b[K\rremote: Counting objects: 100% (69/69), done.\u001b[K\n",
            "remote: Compressing objects:   1% (1/68)\u001b[K\rremote: Compressing objects:   2% (2/68)\u001b[K\rremote: Compressing objects:   4% (3/68)\u001b[K\rremote: Compressing objects:   5% (4/68)\u001b[K\rremote: Compressing objects:   7% (5/68)\u001b[K\rremote: Compressing objects:   8% (6/68)\u001b[K\rremote: Compressing objects:  10% (7/68)\u001b[K\rremote: Compressing objects:  11% (8/68)\u001b[K\rremote: Compressing objects:  13% (9/68)\u001b[K\rremote: Compressing objects:  14% (10/68)\u001b[K\rremote: Compressing objects:  16% (11/68)\u001b[K\rremote: Compressing objects:  17% (12/68)\u001b[K\rremote: Compressing objects:  19% (13/68)\u001b[K\rremote: Compressing objects:  20% (14/68)\u001b[K\rremote: Compressing objects:  22% (15/68)\u001b[K\rremote: Compressing objects:  23% (16/68)\u001b[K\rremote: Compressing objects:  25% (17/68)\u001b[K\rremote: Compressing objects:  26% (18/68)\u001b[K\rremote: Compressing objects:  27% (19/68)\u001b[K\rremote: Compressing objects:  29% (20/68)\u001b[K\rremote: Compressing objects:  30% (21/68)\u001b[K\rremote: Compressing objects:  32% (22/68)\u001b[K\rremote: Compressing objects:  33% (23/68)\u001b[K\rremote: Compressing objects:  35% (24/68)\u001b[K\rremote: Compressing objects:  36% (25/68)\u001b[K\rremote: Compressing objects:  38% (26/68)\u001b[K\rremote: Compressing objects:  39% (27/68)\u001b[K\rremote: Compressing objects:  41% (28/68)\u001b[K\rremote: Compressing objects:  42% (29/68)\u001b[K\rremote: Compressing objects:  44% (30/68)\u001b[K\rremote: Compressing objects:  45% (31/68)\u001b[K\rremote: Compressing objects:  47% (32/68)\u001b[K\rremote: Compressing objects:  48% (33/68)\u001b[K\rremote: Compressing objects:  50% (34/68)\u001b[K\rremote: Compressing objects:  51% (35/68)\u001b[K\rremote: Compressing objects:  52% (36/68)\u001b[K\rremote: Compressing objects:  54% (37/68)\u001b[K\rremote: Compressing objects:  55% (38/68)\u001b[K\rremote: Compressing objects:  57% (39/68)\u001b[K\rremote: Compressing objects:  58% (40/68)\u001b[K\rremote: Compressing objects:  60% (41/68)\u001b[K\rremote: Compressing objects:  61% (42/68)\u001b[K\rremote: Compressing objects:  63% (43/68)\u001b[K\rremote: Compressing objects:  64% (44/68)\u001b[K\rremote: Compressing objects:  66% (45/68)\u001b[K\rremote: Compressing objects:  67% (46/68)\u001b[K\rremote: Compressing objects:  69% (47/68)\u001b[K\rremote: Compressing objects:  70% (48/68)\u001b[K\rremote: Compressing objects:  72% (49/68)\u001b[K\rremote: Compressing objects:  73% (50/68)\u001b[K\rremote: Compressing objects:  75% (51/68)\u001b[K\rremote: Compressing objects:  76% (52/68)\u001b[K\rremote: Compressing objects:  77% (53/68)\u001b[K\rremote: Compressing objects:  79% (54/68)\u001b[K\rremote: Compressing objects:  80% (55/68)\u001b[K\rremote: Compressing objects:  82% (56/68)\u001b[K\rremote: Compressing objects:  83% (57/68)\u001b[K\rremote: Compressing objects:  85% (58/68)\u001b[K\rremote: Compressing objects:  86% (59/68)\u001b[K\rremote: Compressing objects:  88% (60/68)\u001b[K\rremote: Compressing objects:  89% (61/68)\u001b[K\rremote: Compressing objects:  91% (62/68)\u001b[K\rremote: Compressing objects:  92% (63/68)\u001b[K\rremote: Compressing objects:  94% (64/68)\u001b[K\rremote: Compressing objects:  95% (65/68)\u001b[K\rremote: Compressing objects:  97% (66/68)\u001b[K\rremote: Compressing objects:  98% (67/68)\u001b[K\rremote: Compressing objects: 100% (68/68)\u001b[K\rremote: Compressing objects: 100% (68/68), done.\u001b[K\n",
            "Unpacking objects:   1% (1/69)   \rUnpacking objects:   2% (2/69)   \rUnpacking objects:   4% (3/69)   \rUnpacking objects:   5% (4/69)   \rUnpacking objects:   7% (5/69)   \rUnpacking objects:   8% (6/69)   \rUnpacking objects:  10% (7/69)   \rUnpacking objects:  11% (8/69)   \rUnpacking objects:  13% (9/69)   \rUnpacking objects:  14% (10/69)   \rUnpacking objects:  15% (11/69)   \rUnpacking objects:  17% (12/69)   \rUnpacking objects:  18% (13/69)   \rUnpacking objects:  20% (14/69)   \rUnpacking objects:  21% (15/69)   \rUnpacking objects:  23% (16/69)   \rUnpacking objects:  24% (17/69)   \rUnpacking objects:  26% (18/69)   \rUnpacking objects:  27% (19/69)   \rUnpacking objects:  28% (20/69)   \rUnpacking objects:  30% (21/69)   \rUnpacking objects:  31% (22/69)   \rUnpacking objects:  33% (23/69)   \rUnpacking objects:  34% (24/69)   \rUnpacking objects:  36% (25/69)   \rUnpacking objects:  37% (26/69)   \rUnpacking objects:  39% (27/69)   \rUnpacking objects:  40% (28/69)   \rremote: Total 69 (delta 28), reused 0 (delta 0), pack-reused 0\u001b[K\n",
            "Unpacking objects:  42% (29/69)   \rUnpacking objects:  43% (30/69)   \rUnpacking objects:  44% (31/69)   \rUnpacking objects:  46% (32/69)   \rUnpacking objects:  47% (33/69)   \rUnpacking objects:  49% (34/69)   \rUnpacking objects:  50% (35/69)   \rUnpacking objects:  52% (36/69)   \rUnpacking objects:  53% (37/69)   \rUnpacking objects:  55% (38/69)   \rUnpacking objects:  56% (39/69)   \rUnpacking objects:  57% (40/69)   \rUnpacking objects:  59% (41/69)   \rUnpacking objects:  60% (42/69)   \rUnpacking objects:  62% (43/69)   \rUnpacking objects:  63% (44/69)   \rUnpacking objects:  65% (45/69)   \rUnpacking objects:  66% (46/69)   \rUnpacking objects:  68% (47/69)   \rUnpacking objects:  69% (48/69)   \rUnpacking objects:  71% (49/69)   \rUnpacking objects:  72% (50/69)   \rUnpacking objects:  73% (51/69)   \rUnpacking objects:  75% (52/69)   \rUnpacking objects:  76% (53/69)   \rUnpacking objects:  78% (54/69)   \rUnpacking objects:  79% (55/69)   \rUnpacking objects:  81% (56/69)   \rUnpacking objects:  82% (57/69)   \rUnpacking objects:  84% (58/69)   \rUnpacking objects:  85% (59/69)   \rUnpacking objects:  86% (60/69)   \rUnpacking objects:  88% (61/69)   \rUnpacking objects:  89% (62/69)   \rUnpacking objects:  91% (63/69)   \rUnpacking objects:  92% (64/69)   \rUnpacking objects:  94% (65/69)   \rUnpacking objects:  95% (66/69)   \rUnpacking objects:  97% (67/69)   \rUnpacking objects:  98% (68/69)   \rUnpacking objects: 100% (69/69)   \rUnpacking objects: 100% (69/69), done.\n"
          ],
          "name": "stdout"
        }
      ]
    },
    {
      "cell_type": "code",
      "metadata": {
        "id": "_nrgXjYUgXeN",
        "colab_type": "code",
        "colab": {}
      },
      "source": [
        "import pandas as pd\n",
        "from sklearn.metrics import mean_squared_error\n",
        "from sklearn.model_selection import train_test_split\n",
        "from sklearn.preprocessing import LabelEncoder\n",
        "\n",
        "from NNCTR.deepctr.models import DeepFM\n",
        "from NNCTR.deepctr.inputs import SparseFeat,get_fixlen_feature_names"
      ],
      "execution_count": 0,
      "outputs": []
    },
    {
      "cell_type": "code",
      "metadata": {
        "id": "4L2oRmMmgYdu",
        "colab_type": "code",
        "colab": {
          "base_uri": "https://localhost:8080/",
          "height": 625
        },
        "outputId": "a246f3ee-dc08-4ed6-fc8e-220c98d7b159"
      },
      "source": [
        "if __name__ == \"__main__\":\n",
        "\n",
        "    data = pd.read_csv(\"NNCTR/examples/movielens_sample.txt\")\n",
        "    sparse_features = [\"movie_id\", \"user_id\",\n",
        "                       \"gender\", \"age\", \"occupation\", \"zip\"]\n",
        "    target = ['rating']\n",
        "\n",
        "    # 1.Label Encoding for sparse features,and do simple Transformation for dense features\n",
        "    for feat in sparse_features:\n",
        "        lbe = LabelEncoder()\n",
        "        data[feat] = lbe.fit_transform(data[feat])\n",
        "    # 2.count #unique features for each sparse field\n",
        "    fixlen_feature_columns = [SparseFeat(feat, data[feat].nunique())\n",
        "                              for feat in sparse_features]\n",
        "    linear_feature_columns = fixlen_feature_columns\n",
        "    dnn_feature_columns = fixlen_feature_columns\n",
        "    fixlen_feature_names = get_fixlen_feature_names(linear_feature_columns + dnn_feature_columns)\n",
        "\n",
        "    # 3.generate input data for model\n",
        "    train, test = train_test_split(data, test_size=0.2)\n",
        "    train_model_input = [train[name].values for name in fixlen_feature_names]\n",
        "    test_model_input = [test[name].values for name in fixlen_feature_names]\n",
        "    # 4.Define Model,train,predict and evaluate\n",
        "    model = DeepFM(linear_feature_columns, dnn_feature_columns, task='regression')\n",
        "    model.compile(\"adam\", \"mse\", metrics=['mse'], )\n",
        "\n",
        "    history = model.fit(train_model_input, train[target].values,\n",
        "                        batch_size=256, epochs=10, verbose=2, validation_split=0.2, )\n",
        "    pred_ans = model.predict(test_model_input, batch_size=256)\n",
        "    print(\"test MSE\", round(mean_squared_error(\n",
        "        test[target].values, pred_ans), 4))\n"
      ],
      "execution_count": 5,
      "outputs": [
        {
          "output_type": "stream",
          "text": [
            "WARNING: Logging before flag parsing goes to stderr.\n",
            "W0809 09:17:22.374874 139948251649920 deprecation.py:506] From /usr/local/lib/python3.6/dist-packages/tensorflow/python/keras/initializers.py:143: calling RandomNormal.__init__ (from tensorflow.python.ops.init_ops) with dtype is deprecated and will be removed in a future version.\n",
            "Instructions for updating:\n",
            "Call initializer instance with the dtype argument instead of passing it to the constructor\n",
            "W0809 09:17:22.614706 139948251649920 deprecation.py:506] From /usr/local/lib/python3.6/dist-packages/tensorflow/python/ops/init_ops.py:1251: calling VarianceScaling.__init__ (from tensorflow.python.ops.init_ops) with dtype is deprecated and will be removed in a future version.\n",
            "Instructions for updating:\n",
            "Call initializer instance with the dtype argument instead of passing it to the constructor\n",
            "W0809 09:17:22.866726 139948251649920 deprecation.py:506] From /usr/local/lib/python3.6/dist-packages/tensorflow/python/autograph/impl/api.py:253: calling reduce_sum_v1 (from tensorflow.python.ops.math_ops) with keep_dims is deprecated and will be removed in a future version.\n",
            "Instructions for updating:\n",
            "keep_dims is deprecated, use keepdims instead\n"
          ],
          "name": "stderr"
        },
        {
          "output_type": "stream",
          "text": [
            "Train on 128 samples, validate on 32 samples\n",
            "Epoch 1/10\n",
            "128/128 - 1s - loss: 14.2344 - mean_squared_error: 14.2344 - val_loss: 15.5399 - val_mean_squared_error: 15.5399\n",
            "Epoch 2/10\n",
            "128/128 - 0s - loss: 14.0977 - mean_squared_error: 14.0977 - val_loss: 15.4127 - val_mean_squared_error: 15.4127\n",
            "Epoch 3/10\n",
            "128/128 - 0s - loss: 13.9485 - mean_squared_error: 13.9485 - val_loss: 15.2767 - val_mean_squared_error: 15.2767\n",
            "Epoch 4/10\n",
            "128/128 - 0s - loss: 13.7873 - mean_squared_error: 13.7873 - val_loss: 15.1313 - val_mean_squared_error: 15.1313\n",
            "Epoch 5/10\n",
            "128/128 - 0s - loss: 13.6144 - mean_squared_error: 13.6144 - val_loss: 14.9763 - val_mean_squared_error: 14.9763\n",
            "Epoch 6/10\n",
            "128/128 - 0s - loss: 13.4297 - mean_squared_error: 13.4297 - val_loss: 14.8114 - val_mean_squared_error: 14.8114\n",
            "Epoch 7/10\n",
            "128/128 - 0s - loss: 13.2326 - mean_squared_error: 13.2326 - val_loss: 14.6358 - val_mean_squared_error: 14.6358\n",
            "Epoch 8/10\n",
            "128/128 - 0s - loss: 13.0217 - mean_squared_error: 13.0217 - val_loss: 14.4483 - val_mean_squared_error: 14.4483\n",
            "Epoch 9/10\n",
            "128/128 - 0s - loss: 12.7958 - mean_squared_error: 12.7958 - val_loss: 14.2480 - val_mean_squared_error: 14.2480\n",
            "Epoch 10/10\n",
            "128/128 - 0s - loss: 12.5531 - mean_squared_error: 12.5531 - val_loss: 14.0338 - val_mean_squared_error: 14.0338\n",
            "test MSE 11.1513\n"
          ],
          "name": "stdout"
        }
      ]
    }
  ]
}