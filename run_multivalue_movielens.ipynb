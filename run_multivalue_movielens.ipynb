{
  "nbformat": 4,
  "nbformat_minor": 0,
  "metadata": {
    "colab": {
      "name": "run_multivalue_movielens.ipynb",
      "version": "0.3.2",
      "provenance": [],
      "collapsed_sections": [],
      "include_colab_link": true
    },
    "kernelspec": {
      "name": "python3",
      "display_name": "Python 3"
    }
  },
  "cells": [
    {
      "cell_type": "markdown",
      "metadata": {
        "id": "view-in-github",
        "colab_type": "text"
      },
      "source": [
        "<a href=\"https://colab.research.google.com/github/dhighlord/NNCTR/blob/master/run_multivalue_movielens.ipynb\" target=\"_parent\"><img src=\"https://colab.research.google.com/assets/colab-badge.svg\" alt=\"Open In Colab\"/></a>"
      ]
    },
    {
      "cell_type": "code",
      "metadata": {
        "id": "yeh7fIjZrfHu",
        "colab_type": "code",
        "colab": {
          "base_uri": "https://localhost:8080/",
          "height": 127
        },
        "outputId": "1b21d813-46d3-45c4-b3a7-4ee1700437fa"
      },
      "source": [
        "!git clone https://github.com/dhighlord/NNCTR.git"
      ],
      "execution_count": 1,
      "outputs": [
        {
          "output_type": "stream",
          "text": [
            "Cloning into 'NNCTR'...\n",
            "remote: Enumerating objects: 3, done.\u001b[K\n",
            "remote: Counting objects:  33% (1/3)\u001b[K\rremote: Counting objects:  66% (2/3)\u001b[K\rremote: Counting objects: 100% (3/3)\u001b[K\rremote: Counting objects: 100% (3/3), done.\u001b[K\n",
            "remote: Compressing objects:  33% (1/3)\u001b[K\rremote: Compressing objects:  66% (2/3)\u001b[K\rremote: Compressing objects: 100% (3/3)\u001b[K\rremote: Compressing objects: 100% (3/3), done.\u001b[K\n",
            "Unpacking objects:   1% (1/72)   \rUnpacking objects:   2% (2/72)   \rUnpacking objects:   4% (3/72)   \rUnpacking objects:   5% (4/72)   \rUnpacking objects:   6% (5/72)   \rUnpacking objects:   8% (6/72)   \rUnpacking objects:   9% (7/72)   \rUnpacking objects:  11% (8/72)   \rUnpacking objects:  12% (9/72)   \rUnpacking objects:  13% (10/72)   \rUnpacking objects:  15% (11/72)   \rUnpacking objects:  16% (12/72)   \rUnpacking objects:  18% (13/72)   \rUnpacking objects:  19% (14/72)   \rUnpacking objects:  20% (15/72)   \rUnpacking objects:  22% (16/72)   \rUnpacking objects:  23% (17/72)   \rUnpacking objects:  25% (18/72)   \rUnpacking objects:  26% (19/72)   \rUnpacking objects:  27% (20/72)   \rUnpacking objects:  29% (21/72)   \rUnpacking objects:  30% (22/72)   \rUnpacking objects:  31% (23/72)   \rUnpacking objects:  33% (24/72)   \rUnpacking objects:  34% (25/72)   \rUnpacking objects:  36% (26/72)   \rUnpacking objects:  37% (27/72)   \rUnpacking objects:  38% (28/72)   \rUnpacking objects:  40% (29/72)   \rUnpacking objects:  41% (30/72)   \rUnpacking objects:  43% (31/72)   \rUnpacking objects:  44% (32/72)   \rUnpacking objects:  45% (33/72)   \rUnpacking objects:  47% (34/72)   \rUnpacking objects:  48% (35/72)   \rUnpacking objects:  50% (36/72)   \rUnpacking objects:  51% (37/72)   \rUnpacking objects:  52% (38/72)   \rUnpacking objects:  54% (39/72)   \rUnpacking objects:  55% (40/72)   \rUnpacking objects:  56% (41/72)   \rUnpacking objects:  58% (42/72)   \rUnpacking objects:  59% (43/72)   \rremote: Total 72 (delta 0), reused 0 (delta 0), pack-reused 69\n",
            "Unpacking objects:  61% (44/72)   \rUnpacking objects:  62% (45/72)   \rUnpacking objects:  63% (46/72)   \rUnpacking objects:  65% (47/72)   \rUnpacking objects:  66% (48/72)   \rUnpacking objects:  68% (49/72)   \rUnpacking objects:  69% (50/72)   \rUnpacking objects:  70% (51/72)   \rUnpacking objects:  72% (52/72)   \rUnpacking objects:  73% (53/72)   \rUnpacking objects:  75% (54/72)   \rUnpacking objects:  76% (55/72)   \rUnpacking objects:  77% (56/72)   \rUnpacking objects:  79% (57/72)   \rUnpacking objects:  80% (58/72)   \rUnpacking objects:  81% (59/72)   \rUnpacking objects:  83% (60/72)   \rUnpacking objects:  84% (61/72)   \rUnpacking objects:  86% (62/72)   \rUnpacking objects:  87% (63/72)   \rUnpacking objects:  88% (64/72)   \rUnpacking objects:  90% (65/72)   \rUnpacking objects:  91% (66/72)   \rUnpacking objects:  93% (67/72)   \rUnpacking objects:  94% (68/72)   \rUnpacking objects:  95% (69/72)   \rUnpacking objects:  97% (70/72)   \rUnpacking objects:  98% (71/72)   \rUnpacking objects: 100% (72/72)   \rUnpacking objects: 100% (72/72), done.\n"
          ],
          "name": "stdout"
        }
      ]
    },
    {
      "cell_type": "code",
      "metadata": {
        "id": "wzWFm4MjrzLl",
        "colab_type": "code",
        "colab": {}
      },
      "source": [
        "import pandas as pd\n",
        "from sklearn.metrics import mean_squared_error\n",
        "from sklearn.model_selection import train_test_split\n",
        "from sklearn.preprocessing import LabelEncoder\n",
        "\n",
        "from NNCTR.deepctr.models import DeepFM\n",
        "from NNCTR.deepctr.inputs import SparseFeat,get_fixlen_feature_names"
      ],
      "execution_count": 0,
      "outputs": []
    },
    {
      "cell_type": "code",
      "metadata": {
        "id": "alatR2fKsaNM",
        "colab_type": "code",
        "colab": {
          "base_uri": "https://localhost:8080/",
          "height": 625
        },
        "outputId": "e59b1e8f-a256-4b7a-e4dd-57f9d9e4b228"
      },
      "source": [
        "if __name__ == \"__main__\":\n",
        "\n",
        "    data = pd.read_csv(\"NNCTR/examples/movielens_sample.txt\")\n",
        "    sparse_features = [\"movie_id\", \"user_id\",\n",
        "                       \"gender\", \"age\", \"occupation\", \"zip\"]\n",
        "    target = ['rating']\n",
        "\n",
        "    # 1.Label Encoding for sparse features,and do simple Transformation for dense features\n",
        "    for feat in sparse_features:\n",
        "        lbe = LabelEncoder()\n",
        "        data[feat] = lbe.fit_transform(data[feat])\n",
        "    # 2.count #unique features for each sparse field\n",
        "    fixlen_feature_columns = [SparseFeat(feat, data[feat].nunique())\n",
        "                              for feat in sparse_features]\n",
        "    linear_feature_columns = fixlen_feature_columns\n",
        "    dnn_feature_columns = fixlen_feature_columns\n",
        "    fixlen_feature_names = get_fixlen_feature_names(linear_feature_columns + dnn_feature_columns)\n",
        "\n",
        "    # 3.generate input data for model\n",
        "    train, test = train_test_split(data, test_size=0.2)\n",
        "    train_model_input = [train[name].values for name in fixlen_feature_names]\n",
        "    test_model_input = [test[name].values for name in fixlen_feature_names]\n",
        "    # 4.Define Model,train,predict and evaluate\n",
        "    model = DeepFM(linear_feature_columns, dnn_feature_columns, task='regression')\n",
        "    model.compile(\"adam\", \"mse\", metrics=['mse'], )\n",
        "\n",
        "    history = model.fit(train_model_input, train[target].values,\n",
        "                        batch_size=256, epochs=10, verbose=2, validation_split=0.2, )\n",
        "    pred_ans = model.predict(test_model_input, batch_size=256)\n",
        "    print(\"test MSE\", round(mean_squared_error(\n",
        "        test[target].values, pred_ans), 4))"
      ],
      "execution_count": 3,
      "outputs": [
        {
          "output_type": "stream",
          "text": [
            "WARNING: Logging before flag parsing goes to stderr.\n",
            "W0809 09:24:45.636941 139888006326144 deprecation.py:506] From /usr/local/lib/python3.6/dist-packages/tensorflow/python/keras/initializers.py:143: calling RandomNormal.__init__ (from tensorflow.python.ops.init_ops) with dtype is deprecated and will be removed in a future version.\n",
            "Instructions for updating:\n",
            "Call initializer instance with the dtype argument instead of passing it to the constructor\n",
            "W0809 09:24:45.860097 139888006326144 deprecation.py:506] From /usr/local/lib/python3.6/dist-packages/tensorflow/python/ops/init_ops.py:1251: calling VarianceScaling.__init__ (from tensorflow.python.ops.init_ops) with dtype is deprecated and will be removed in a future version.\n",
            "Instructions for updating:\n",
            "Call initializer instance with the dtype argument instead of passing it to the constructor\n",
            "W0809 09:24:46.120093 139888006326144 deprecation.py:506] From /usr/local/lib/python3.6/dist-packages/tensorflow/python/autograph/impl/api.py:253: calling reduce_sum_v1 (from tensorflow.python.ops.math_ops) with keep_dims is deprecated and will be removed in a future version.\n",
            "Instructions for updating:\n",
            "keep_dims is deprecated, use keepdims instead\n"
          ],
          "name": "stderr"
        },
        {
          "output_type": "stream",
          "text": [
            "Train on 128 samples, validate on 32 samples\n",
            "Epoch 1/10\n",
            "128/128 - 1s - loss: 14.2736 - mean_squared_error: 14.2736 - val_loss: 14.2693 - val_mean_squared_error: 14.2693\n",
            "Epoch 2/10\n",
            "128/128 - 0s - loss: 14.1469 - mean_squared_error: 14.1469 - val_loss: 14.1523 - val_mean_squared_error: 14.1523\n",
            "Epoch 3/10\n",
            "128/128 - 0s - loss: 14.0062 - mean_squared_error: 14.0062 - val_loss: 14.0285 - val_mean_squared_error: 14.0285\n",
            "Epoch 4/10\n",
            "128/128 - 0s - loss: 13.8566 - mean_squared_error: 13.8566 - val_loss: 13.8972 - val_mean_squared_error: 13.8972\n",
            "Epoch 5/10\n",
            "128/128 - 0s - loss: 13.6974 - mean_squared_error: 13.6974 - val_loss: 13.7575 - val_mean_squared_error: 13.7575\n",
            "Epoch 6/10\n",
            "128/128 - 0s - loss: 13.5277 - mean_squared_error: 13.5277 - val_loss: 13.6083 - val_mean_squared_error: 13.6083\n",
            "Epoch 7/10\n",
            "128/128 - 0s - loss: 13.3467 - mean_squared_error: 13.3467 - val_loss: 13.4492 - val_mean_squared_error: 13.4492\n",
            "Epoch 8/10\n",
            "128/128 - 0s - loss: 13.1535 - mean_squared_error: 13.1535 - val_loss: 13.2797 - val_mean_squared_error: 13.2797\n",
            "Epoch 9/10\n",
            "128/128 - 0s - loss: 12.9469 - mean_squared_error: 12.9469 - val_loss: 13.0990 - val_mean_squared_error: 13.0990\n",
            "Epoch 10/10\n",
            "128/128 - 0s - loss: 12.7253 - mean_squared_error: 12.7253 - val_loss: 12.9056 - val_mean_squared_error: 12.9056\n",
            "test MSE 12.1304\n"
          ],
          "name": "stdout"
        }
      ]
    }
  ]
}